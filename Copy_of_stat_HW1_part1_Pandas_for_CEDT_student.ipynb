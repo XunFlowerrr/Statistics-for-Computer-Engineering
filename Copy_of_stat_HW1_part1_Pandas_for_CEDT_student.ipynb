{
  "nbformat": 4,
  "nbformat_minor": 0,
  "metadata": {
    "colab": {
      "provenance": [],
      "include_colab_link": true
    },
    "kernelspec": {
      "name": "python3",
      "display_name": "Python 3"
    },
    "language_info": {
      "name": "python"
    }
  },
  "cells": [
    {
      "cell_type": "markdown",
      "metadata": {
        "id": "view-in-github",
        "colab_type": "text"
      },
      "source": [
        "<a href=\"https://colab.research.google.com/github/XunFlowerrr/Statistics-for-Computer-Engineering/blob/hw1/Copy_of_stat_HW1_part1_Pandas_for_CEDT_student.ipynb\" target=\"_parent\"><img src=\"https://colab.research.google.com/assets/colab-badge.svg\" alt=\"Open In Colab\"/></a>"
      ]
    },
    {
      "cell_type": "markdown",
      "source": [
        "# Part 1: Pandas\n",
        "The goal of this assignment is to practice using pandas to analyze and manipulate data. You will explore the dataset and perform various analyses to extract meaningful insights.\n",
        "\n"
      ],
      "metadata": {
        "id": "_WKEnqPTewcj"
      }
    },
    {
      "cell_type": "markdown",
      "source": [
        "Import lib and dataset"
      ],
      "metadata": {
        "id": "SCQeaKD6eeB5"
      }
    },
    {
      "cell_type": "code",
      "execution_count": null,
      "metadata": {
        "id": "M404fkCWJzrP"
      },
      "outputs": [],
      "source": [
        "import pandas as pd\n",
        "import numpy as np"
      ]
    },
    {
      "cell_type": "code",
      "source": [
        "!wget https://raw.githubusercontent.com/PacharaWin/CEDT_stat_data_2024/main/HW1/part1_horse_race_HK.csv"
      ],
      "metadata": {
        "id": "wupSMZcTeqIO",
        "colab": {
          "base_uri": "https://localhost:8080/"
        },
        "outputId": "7ca03690-8a6c-4ad8-8d4c-971e2994d4e9"
      },
      "execution_count": null,
      "outputs": [
        {
          "output_type": "stream",
          "name": "stdout",
          "text": [
            "--2024-08-08 08:01:03--  https://raw.githubusercontent.com/PacharaWin/CEDT_stat_data_2024/main/HW1/part1_horse_race_HK.csv\n",
            "Resolving raw.githubusercontent.com (raw.githubusercontent.com)... 185.199.108.133, 185.199.109.133, 185.199.110.133, ...\n",
            "Connecting to raw.githubusercontent.com (raw.githubusercontent.com)|185.199.108.133|:443... connected.\n",
            "HTTP request sent, awaiting response... 200 OK\n",
            "Length: 3145750 (3.0M) [text/plain]\n",
            "Saving to: ‘part1_horse_race_HK.csv.1’\n",
            "\n",
            "\r          part1_hor   0%[                    ]       0  --.-KB/s               \rpart1_horse_race_HK 100%[===================>]   3.00M  --.-KB/s    in 0.02s   \n",
            "\n",
            "2024-08-08 08:01:03 (180 MB/s) - ‘part1_horse_race_HK.csv.1’ saved [3145750/3145750]\n",
            "\n"
          ]
        }
      ]
    },
    {
      "cell_type": "code",
      "source": [
        "df = pd.read_csv('/content/part1_horse_race_HK.csv')\n",
        "df.head(5)"
      ],
      "metadata": {
        "id": "RwYTz9nSevJR",
        "colab": {
          "base_uri": "https://localhost:8080/",
          "height": 313
        },
        "outputId": "532a4f66-3c6a-4151-cd72-8c4abc9348e4"
      },
      "execution_count": null,
      "outputs": [
        {
          "output_type": "execute_result",
          "data": {
            "text/plain": [
              "  finishing_position  horse_number         horse_name horse_id     jockey  \\\n",
              "0                  1           1.0      DOUBLE DRAGON     K019  B Prebble   \n",
              "1                  2           2.0  PLAIN BLUE BANNER     S070    D Whyte   \n",
              "2                  3          10.0         GOLDWEAVER     P072  Y T Cheng   \n",
              "3                  4           3.0     SUPREME PROFIT     P230  J Moreira   \n",
              "4                  5           7.0       THE ONLY KID     H173   Z Purton   \n",
              "\n",
              "        trainer  actual_weight  declared_horse_weight  draw  \\\n",
              "0        D Cruz            133                   1032     1   \n",
              "1  D E Ferraris            133                   1075    13   \n",
              "2      Y S Tsui            121                   1065     3   \n",
              "3      C S Shum            132                   1222     2   \n",
              "4       K W Lui            125                   1136     9   \n",
              "\n",
              "  length_behind_winner  running_position_1  running_position_2  \\\n",
              "0                    -                 1.0                 2.0   \n",
              "1                    2                 8.0                 9.0   \n",
              "2                    2                 2.0                 1.0   \n",
              "3                    2                 6.0                 4.0   \n",
              "4                4-1/4                 9.0                10.0   \n",
              "\n",
              "   running_position_3 finish_time  win_odds   race_id horse_gender nationality  \n",
              "0                 2.0     1.22.33       3.8  2014-001         male      Indian  \n",
              "1                 9.0     1.22.65       8.0  2014-001       female     Chinese  \n",
              "2                 1.0     1.22.66       5.7  2014-001       female      Indian  \n",
              "3                 5.0     1.22.66       6.1  2014-001         male   Brazilian  \n",
              "4                10.0     1.23.02       6.1  2014-001         male    Nigerian  "
            ],
            "text/html": [
              "\n",
              "  <div id=\"df-35513837-dcd8-40b9-9f7e-bd1d590d209c\" class=\"colab-df-container\">\n",
              "    <div>\n",
              "<style scoped>\n",
              "    .dataframe tbody tr th:only-of-type {\n",
              "        vertical-align: middle;\n",
              "    }\n",
              "\n",
              "    .dataframe tbody tr th {\n",
              "        vertical-align: top;\n",
              "    }\n",
              "\n",
              "    .dataframe thead th {\n",
              "        text-align: right;\n",
              "    }\n",
              "</style>\n",
              "<table border=\"1\" class=\"dataframe\">\n",
              "  <thead>\n",
              "    <tr style=\"text-align: right;\">\n",
              "      <th></th>\n",
              "      <th>finishing_position</th>\n",
              "      <th>horse_number</th>\n",
              "      <th>horse_name</th>\n",
              "      <th>horse_id</th>\n",
              "      <th>jockey</th>\n",
              "      <th>trainer</th>\n",
              "      <th>actual_weight</th>\n",
              "      <th>declared_horse_weight</th>\n",
              "      <th>draw</th>\n",
              "      <th>length_behind_winner</th>\n",
              "      <th>running_position_1</th>\n",
              "      <th>running_position_2</th>\n",
              "      <th>running_position_3</th>\n",
              "      <th>finish_time</th>\n",
              "      <th>win_odds</th>\n",
              "      <th>race_id</th>\n",
              "      <th>horse_gender</th>\n",
              "      <th>nationality</th>\n",
              "    </tr>\n",
              "  </thead>\n",
              "  <tbody>\n",
              "    <tr>\n",
              "      <th>0</th>\n",
              "      <td>1</td>\n",
              "      <td>1.0</td>\n",
              "      <td>DOUBLE DRAGON</td>\n",
              "      <td>K019</td>\n",
              "      <td>B Prebble</td>\n",
              "      <td>D Cruz</td>\n",
              "      <td>133</td>\n",
              "      <td>1032</td>\n",
              "      <td>1</td>\n",
              "      <td>-</td>\n",
              "      <td>1.0</td>\n",
              "      <td>2.0</td>\n",
              "      <td>2.0</td>\n",
              "      <td>1.22.33</td>\n",
              "      <td>3.8</td>\n",
              "      <td>2014-001</td>\n",
              "      <td>male</td>\n",
              "      <td>Indian</td>\n",
              "    </tr>\n",
              "    <tr>\n",
              "      <th>1</th>\n",
              "      <td>2</td>\n",
              "      <td>2.0</td>\n",
              "      <td>PLAIN BLUE BANNER</td>\n",
              "      <td>S070</td>\n",
              "      <td>D Whyte</td>\n",
              "      <td>D E Ferraris</td>\n",
              "      <td>133</td>\n",
              "      <td>1075</td>\n",
              "      <td>13</td>\n",
              "      <td>2</td>\n",
              "      <td>8.0</td>\n",
              "      <td>9.0</td>\n",
              "      <td>9.0</td>\n",
              "      <td>1.22.65</td>\n",
              "      <td>8.0</td>\n",
              "      <td>2014-001</td>\n",
              "      <td>female</td>\n",
              "      <td>Chinese</td>\n",
              "    </tr>\n",
              "    <tr>\n",
              "      <th>2</th>\n",
              "      <td>3</td>\n",
              "      <td>10.0</td>\n",
              "      <td>GOLDWEAVER</td>\n",
              "      <td>P072</td>\n",
              "      <td>Y T Cheng</td>\n",
              "      <td>Y S Tsui</td>\n",
              "      <td>121</td>\n",
              "      <td>1065</td>\n",
              "      <td>3</td>\n",
              "      <td>2</td>\n",
              "      <td>2.0</td>\n",
              "      <td>1.0</td>\n",
              "      <td>1.0</td>\n",
              "      <td>1.22.66</td>\n",
              "      <td>5.7</td>\n",
              "      <td>2014-001</td>\n",
              "      <td>female</td>\n",
              "      <td>Indian</td>\n",
              "    </tr>\n",
              "    <tr>\n",
              "      <th>3</th>\n",
              "      <td>4</td>\n",
              "      <td>3.0</td>\n",
              "      <td>SUPREME PROFIT</td>\n",
              "      <td>P230</td>\n",
              "      <td>J Moreira</td>\n",
              "      <td>C S Shum</td>\n",
              "      <td>132</td>\n",
              "      <td>1222</td>\n",
              "      <td>2</td>\n",
              "      <td>2</td>\n",
              "      <td>6.0</td>\n",
              "      <td>4.0</td>\n",
              "      <td>5.0</td>\n",
              "      <td>1.22.66</td>\n",
              "      <td>6.1</td>\n",
              "      <td>2014-001</td>\n",
              "      <td>male</td>\n",
              "      <td>Brazilian</td>\n",
              "    </tr>\n",
              "    <tr>\n",
              "      <th>4</th>\n",
              "      <td>5</td>\n",
              "      <td>7.0</td>\n",
              "      <td>THE ONLY KID</td>\n",
              "      <td>H173</td>\n",
              "      <td>Z Purton</td>\n",
              "      <td>K W Lui</td>\n",
              "      <td>125</td>\n",
              "      <td>1136</td>\n",
              "      <td>9</td>\n",
              "      <td>4-1/4</td>\n",
              "      <td>9.0</td>\n",
              "      <td>10.0</td>\n",
              "      <td>10.0</td>\n",
              "      <td>1.23.02</td>\n",
              "      <td>6.1</td>\n",
              "      <td>2014-001</td>\n",
              "      <td>male</td>\n",
              "      <td>Nigerian</td>\n",
              "    </tr>\n",
              "  </tbody>\n",
              "</table>\n",
              "</div>\n",
              "    <div class=\"colab-df-buttons\">\n",
              "\n",
              "  <div class=\"colab-df-container\">\n",
              "    <button class=\"colab-df-convert\" onclick=\"convertToInteractive('df-35513837-dcd8-40b9-9f7e-bd1d590d209c')\"\n",
              "            title=\"Convert this dataframe to an interactive table.\"\n",
              "            style=\"display:none;\">\n",
              "\n",
              "  <svg xmlns=\"http://www.w3.org/2000/svg\" height=\"24px\" viewBox=\"0 -960 960 960\">\n",
              "    <path d=\"M120-120v-720h720v720H120Zm60-500h600v-160H180v160Zm220 220h160v-160H400v160Zm0 220h160v-160H400v160ZM180-400h160v-160H180v160Zm440 0h160v-160H620v160ZM180-180h160v-160H180v160Zm440 0h160v-160H620v160Z\"/>\n",
              "  </svg>\n",
              "    </button>\n",
              "\n",
              "  <style>\n",
              "    .colab-df-container {\n",
              "      display:flex;\n",
              "      gap: 12px;\n",
              "    }\n",
              "\n",
              "    .colab-df-convert {\n",
              "      background-color: #E8F0FE;\n",
              "      border: none;\n",
              "      border-radius: 50%;\n",
              "      cursor: pointer;\n",
              "      display: none;\n",
              "      fill: #1967D2;\n",
              "      height: 32px;\n",
              "      padding: 0 0 0 0;\n",
              "      width: 32px;\n",
              "    }\n",
              "\n",
              "    .colab-df-convert:hover {\n",
              "      background-color: #E2EBFA;\n",
              "      box-shadow: 0px 1px 2px rgba(60, 64, 67, 0.3), 0px 1px 3px 1px rgba(60, 64, 67, 0.15);\n",
              "      fill: #174EA6;\n",
              "    }\n",
              "\n",
              "    .colab-df-buttons div {\n",
              "      margin-bottom: 4px;\n",
              "    }\n",
              "\n",
              "    [theme=dark] .colab-df-convert {\n",
              "      background-color: #3B4455;\n",
              "      fill: #D2E3FC;\n",
              "    }\n",
              "\n",
              "    [theme=dark] .colab-df-convert:hover {\n",
              "      background-color: #434B5C;\n",
              "      box-shadow: 0px 1px 3px 1px rgba(0, 0, 0, 0.15);\n",
              "      filter: drop-shadow(0px 1px 2px rgba(0, 0, 0, 0.3));\n",
              "      fill: #FFFFFF;\n",
              "    }\n",
              "  </style>\n",
              "\n",
              "    <script>\n",
              "      const buttonEl =\n",
              "        document.querySelector('#df-35513837-dcd8-40b9-9f7e-bd1d590d209c button.colab-df-convert');\n",
              "      buttonEl.style.display =\n",
              "        google.colab.kernel.accessAllowed ? 'block' : 'none';\n",
              "\n",
              "      async function convertToInteractive(key) {\n",
              "        const element = document.querySelector('#df-35513837-dcd8-40b9-9f7e-bd1d590d209c');\n",
              "        const dataTable =\n",
              "          await google.colab.kernel.invokeFunction('convertToInteractive',\n",
              "                                                    [key], {});\n",
              "        if (!dataTable) return;\n",
              "\n",
              "        const docLinkHtml = 'Like what you see? Visit the ' +\n",
              "          '<a target=\"_blank\" href=https://colab.research.google.com/notebooks/data_table.ipynb>data table notebook</a>'\n",
              "          + ' to learn more about interactive tables.';\n",
              "        element.innerHTML = '';\n",
              "        dataTable['output_type'] = 'display_data';\n",
              "        await google.colab.output.renderOutput(dataTable, element);\n",
              "        const docLink = document.createElement('div');\n",
              "        docLink.innerHTML = docLinkHtml;\n",
              "        element.appendChild(docLink);\n",
              "      }\n",
              "    </script>\n",
              "  </div>\n",
              "\n",
              "\n",
              "<div id=\"df-a45fef42-6692-4ed9-add9-9e3438962b74\">\n",
              "  <button class=\"colab-df-quickchart\" onclick=\"quickchart('df-a45fef42-6692-4ed9-add9-9e3438962b74')\"\n",
              "            title=\"Suggest charts\"\n",
              "            style=\"display:none;\">\n",
              "\n",
              "<svg xmlns=\"http://www.w3.org/2000/svg\" height=\"24px\"viewBox=\"0 0 24 24\"\n",
              "     width=\"24px\">\n",
              "    <g>\n",
              "        <path d=\"M19 3H5c-1.1 0-2 .9-2 2v14c0 1.1.9 2 2 2h14c1.1 0 2-.9 2-2V5c0-1.1-.9-2-2-2zM9 17H7v-7h2v7zm4 0h-2V7h2v10zm4 0h-2v-4h2v4z\"/>\n",
              "    </g>\n",
              "</svg>\n",
              "  </button>\n",
              "\n",
              "<style>\n",
              "  .colab-df-quickchart {\n",
              "      --bg-color: #E8F0FE;\n",
              "      --fill-color: #1967D2;\n",
              "      --hover-bg-color: #E2EBFA;\n",
              "      --hover-fill-color: #174EA6;\n",
              "      --disabled-fill-color: #AAA;\n",
              "      --disabled-bg-color: #DDD;\n",
              "  }\n",
              "\n",
              "  [theme=dark] .colab-df-quickchart {\n",
              "      --bg-color: #3B4455;\n",
              "      --fill-color: #D2E3FC;\n",
              "      --hover-bg-color: #434B5C;\n",
              "      --hover-fill-color: #FFFFFF;\n",
              "      --disabled-bg-color: #3B4455;\n",
              "      --disabled-fill-color: #666;\n",
              "  }\n",
              "\n",
              "  .colab-df-quickchart {\n",
              "    background-color: var(--bg-color);\n",
              "    border: none;\n",
              "    border-radius: 50%;\n",
              "    cursor: pointer;\n",
              "    display: none;\n",
              "    fill: var(--fill-color);\n",
              "    height: 32px;\n",
              "    padding: 0;\n",
              "    width: 32px;\n",
              "  }\n",
              "\n",
              "  .colab-df-quickchart:hover {\n",
              "    background-color: var(--hover-bg-color);\n",
              "    box-shadow: 0 1px 2px rgba(60, 64, 67, 0.3), 0 1px 3px 1px rgba(60, 64, 67, 0.15);\n",
              "    fill: var(--button-hover-fill-color);\n",
              "  }\n",
              "\n",
              "  .colab-df-quickchart-complete:disabled,\n",
              "  .colab-df-quickchart-complete:disabled:hover {\n",
              "    background-color: var(--disabled-bg-color);\n",
              "    fill: var(--disabled-fill-color);\n",
              "    box-shadow: none;\n",
              "  }\n",
              "\n",
              "  .colab-df-spinner {\n",
              "    border: 2px solid var(--fill-color);\n",
              "    border-color: transparent;\n",
              "    border-bottom-color: var(--fill-color);\n",
              "    animation:\n",
              "      spin 1s steps(1) infinite;\n",
              "  }\n",
              "\n",
              "  @keyframes spin {\n",
              "    0% {\n",
              "      border-color: transparent;\n",
              "      border-bottom-color: var(--fill-color);\n",
              "      border-left-color: var(--fill-color);\n",
              "    }\n",
              "    20% {\n",
              "      border-color: transparent;\n",
              "      border-left-color: var(--fill-color);\n",
              "      border-top-color: var(--fill-color);\n",
              "    }\n",
              "    30% {\n",
              "      border-color: transparent;\n",
              "      border-left-color: var(--fill-color);\n",
              "      border-top-color: var(--fill-color);\n",
              "      border-right-color: var(--fill-color);\n",
              "    }\n",
              "    40% {\n",
              "      border-color: transparent;\n",
              "      border-right-color: var(--fill-color);\n",
              "      border-top-color: var(--fill-color);\n",
              "    }\n",
              "    60% {\n",
              "      border-color: transparent;\n",
              "      border-right-color: var(--fill-color);\n",
              "    }\n",
              "    80% {\n",
              "      border-color: transparent;\n",
              "      border-right-color: var(--fill-color);\n",
              "      border-bottom-color: var(--fill-color);\n",
              "    }\n",
              "    90% {\n",
              "      border-color: transparent;\n",
              "      border-bottom-color: var(--fill-color);\n",
              "    }\n",
              "  }\n",
              "</style>\n",
              "\n",
              "  <script>\n",
              "    async function quickchart(key) {\n",
              "      const quickchartButtonEl =\n",
              "        document.querySelector('#' + key + ' button');\n",
              "      quickchartButtonEl.disabled = true;  // To prevent multiple clicks.\n",
              "      quickchartButtonEl.classList.add('colab-df-spinner');\n",
              "      try {\n",
              "        const charts = await google.colab.kernel.invokeFunction(\n",
              "            'suggestCharts', [key], {});\n",
              "      } catch (error) {\n",
              "        console.error('Error during call to suggestCharts:', error);\n",
              "      }\n",
              "      quickchartButtonEl.classList.remove('colab-df-spinner');\n",
              "      quickchartButtonEl.classList.add('colab-df-quickchart-complete');\n",
              "    }\n",
              "    (() => {\n",
              "      let quickchartButtonEl =\n",
              "        document.querySelector('#df-a45fef42-6692-4ed9-add9-9e3438962b74 button');\n",
              "      quickchartButtonEl.style.display =\n",
              "        google.colab.kernel.accessAllowed ? 'block' : 'none';\n",
              "    })();\n",
              "  </script>\n",
              "</div>\n",
              "\n",
              "    </div>\n",
              "  </div>\n"
            ],
            "application/vnd.google.colaboratory.intrinsic+json": {
              "type": "dataframe",
              "variable_name": "df",
              "summary": "{\n  \"name\": \"df\",\n  \"rows\": 29542,\n  \"fields\": [\n    {\n      \"column\": \"finishing_position\",\n      \"properties\": {\n        \"dtype\": \"category\",\n        \"num_unique_values\": 31,\n        \"samples\": [\n          \"FE\",\n          \"2 DH\",\n          \"11 DH\"\n        ],\n        \"semantic_type\": \"\",\n        \"description\": \"\"\n      }\n    },\n    {\n      \"column\": \"horse_number\",\n      \"properties\": {\n        \"dtype\": \"number\",\n        \"std\": 3.752544940628738,\n        \"min\": 1.0,\n        \"max\": 14.0,\n        \"num_unique_values\": 14,\n        \"samples\": [\n          11.0,\n          14.0,\n          1.0\n        ],\n        \"semantic_type\": \"\",\n        \"description\": \"\"\n      }\n    },\n    {\n      \"column\": \"horse_name\",\n      \"properties\": {\n        \"dtype\": \"category\",\n        \"num_unique_values\": 2155,\n        \"samples\": [\n          \"SOCCER BRAVE\",\n          \"MORETHANLUCKY\",\n          \"BRILLIANT PROPOSAL\"\n        ],\n        \"semantic_type\": \"\",\n        \"description\": \"\"\n      }\n    },\n    {\n      \"column\": \"horse_id\",\n      \"properties\": {\n        \"dtype\": \"category\",\n        \"num_unique_values\": 2155,\n        \"samples\": [\n          \"T233\",\n          \"A039\",\n          \"N392\"\n        ],\n        \"semantic_type\": \"\",\n        \"description\": \"\"\n      }\n    },\n    {\n      \"column\": \"jockey\",\n      \"properties\": {\n        \"dtype\": \"category\",\n        \"num_unique_values\": 105,\n        \"samples\": [\n          \"R Moore\",\n          \"S de Sousa\",\n          \"G Lerena\"\n        ],\n        \"semantic_type\": \"\",\n        \"description\": \"\"\n      }\n    },\n    {\n      \"column\": \"trainer\",\n      \"properties\": {\n        \"dtype\": \"category\",\n        \"num_unique_values\": 93,\n        \"samples\": [\n          \"D Simcock\",\n          \"R Gibson\",\n          \"H Otonashi\"\n        ],\n        \"semantic_type\": \"\",\n        \"description\": \"\"\n      }\n    },\n    {\n      \"column\": \"actual_weight\",\n      \"properties\": {\n        \"dtype\": \"number\",\n        \"std\": 6,\n        \"min\": 103,\n        \"max\": 133,\n        \"num_unique_values\": 31,\n        \"samples\": [\n          109,\n          124,\n          118\n        ],\n        \"semantic_type\": \"\",\n        \"description\": \"\"\n      }\n    },\n    {\n      \"column\": \"declared_horse_weight\",\n      \"properties\": {\n        \"dtype\": \"number\",\n        \"std\": 60,\n        \"min\": 902,\n        \"max\": 1365,\n        \"num_unique_values\": 398,\n        \"samples\": [\n          1235,\n          1322,\n          1198\n        ],\n        \"semantic_type\": \"\",\n        \"description\": \"\"\n      }\n    },\n    {\n      \"column\": \"draw\",\n      \"properties\": {\n        \"dtype\": \"number\",\n        \"std\": 3,\n        \"min\": 1,\n        \"max\": 15,\n        \"num_unique_values\": 15,\n        \"samples\": [\n          7,\n          5,\n          1\n        ],\n        \"semantic_type\": \"\",\n        \"description\": \"\"\n      }\n    },\n    {\n      \"column\": \"length_behind_winner\",\n      \"properties\": {\n        \"dtype\": \"category\",\n        \"num_unique_values\": 216,\n        \"samples\": [\n          \"44-1/2\",\n          \"TO\",\n          \"34-1/2\"\n        ],\n        \"semantic_type\": \"\",\n        \"description\": \"\"\n      }\n    },\n    {\n      \"column\": \"running_position_1\",\n      \"properties\": {\n        \"dtype\": \"number\",\n        \"std\": 3.727308006627883,\n        \"min\": 1.0,\n        \"max\": 14.0,\n        \"num_unique_values\": 14,\n        \"samples\": [\n          11.0,\n          10.0,\n          1.0\n        ],\n        \"semantic_type\": \"\",\n        \"description\": \"\"\n      }\n    },\n    {\n      \"column\": \"running_position_2\",\n      \"properties\": {\n        \"dtype\": \"number\",\n        \"std\": 3.7257533935059235,\n        \"min\": 1.0,\n        \"max\": 14.0,\n        \"num_unique_values\": 14,\n        \"samples\": [\n          11.0,\n          8.0,\n          2.0\n        ],\n        \"semantic_type\": \"\",\n        \"description\": \"\"\n      }\n    },\n    {\n      \"column\": \"running_position_3\",\n      \"properties\": {\n        \"dtype\": \"number\",\n        \"std\": 3.7248860326187594,\n        \"min\": 1.0,\n        \"max\": 14.0,\n        \"num_unique_values\": 14,\n        \"samples\": [\n          12.0,\n          8.0,\n          2.0\n        ],\n        \"semantic_type\": \"\",\n        \"description\": \"\"\n      }\n    },\n    {\n      \"column\": \"finish_time\",\n      \"properties\": {\n        \"dtype\": \"category\",\n        \"num_unique_values\": 4175,\n        \"samples\": [\n          \"2.02.86\",\n          \"2.18.30\",\n          \"1.39.66\"\n        ],\n        \"semantic_type\": \"\",\n        \"description\": \"\"\n      }\n    },\n    {\n      \"column\": \"win_odds\",\n      \"properties\": {\n        \"dtype\": \"number\",\n        \"std\": 31.620144661605295,\n        \"min\": 1.0,\n        \"max\": 99.0,\n        \"num_unique_values\": 180,\n        \"samples\": [\n          35.0,\n          7.8,\n          75.0\n        ],\n        \"semantic_type\": \"\",\n        \"description\": \"\"\n      }\n    },\n    {\n      \"column\": \"race_id\",\n      \"properties\": {\n        \"dtype\": \"category\",\n        \"num_unique_values\": 2367,\n        \"samples\": [\n          \"2015-302\",\n          \"2016-107\",\n          \"2014-686\"\n        ],\n        \"semantic_type\": \"\",\n        \"description\": \"\"\n      }\n    },\n    {\n      \"column\": \"horse_gender\",\n      \"properties\": {\n        \"dtype\": \"category\",\n        \"num_unique_values\": 2,\n        \"samples\": [\n          \"female\",\n          \"male\"\n        ],\n        \"semantic_type\": \"\",\n        \"description\": \"\"\n      }\n    },\n    {\n      \"column\": \"nationality\",\n      \"properties\": {\n        \"dtype\": \"category\",\n        \"num_unique_values\": 7,\n        \"samples\": [\n          \"Indian\",\n          \"Chinese\"\n        ],\n        \"semantic_type\": \"\",\n        \"description\": \"\"\n      }\n    }\n  ]\n}"
            }
          },
          "metadata": {},
          "execution_count": 31
        }
      ]
    },
    {
      "cell_type": "markdown",
      "source": [
        "This dataset has already been cleaned, and all the NaN values are gone. You can also see the data type of each column using the info() method."
      ],
      "metadata": {
        "id": "kFgcJ9ZIWzt-"
      }
    },
    {
      "cell_type": "code",
      "source": [
        "df.info()"
      ],
      "metadata": {
        "colab": {
          "base_uri": "https://localhost:8080/"
        },
        "id": "qzNRwnyMtV-J",
        "outputId": "235f2cf1-c1fa-412a-adba-f32606b94614"
      },
      "execution_count": null,
      "outputs": [
        {
          "output_type": "stream",
          "name": "stdout",
          "text": [
            "<class 'pandas.core.frame.DataFrame'>\n",
            "RangeIndex: 29542 entries, 0 to 29541\n",
            "Data columns (total 18 columns):\n",
            " #   Column                 Non-Null Count  Dtype  \n",
            "---  ------                 --------------  -----  \n",
            " 0   finishing_position     29542 non-null  object \n",
            " 1   horse_number           29542 non-null  float64\n",
            " 2   horse_name             29542 non-null  object \n",
            " 3   horse_id               29542 non-null  object \n",
            " 4   jockey                 29542 non-null  object \n",
            " 5   trainer                29542 non-null  object \n",
            " 6   actual_weight          29542 non-null  int64  \n",
            " 7   declared_horse_weight  29542 non-null  int64  \n",
            " 8   draw                   29542 non-null  int64  \n",
            " 9   length_behind_winner   29542 non-null  object \n",
            " 10  running_position_1     29542 non-null  float64\n",
            " 11  running_position_2     29542 non-null  float64\n",
            " 12  running_position_3     29542 non-null  float64\n",
            " 13  finish_time            29542 non-null  object \n",
            " 14  win_odds               29542 non-null  float64\n",
            " 15  race_id                29542 non-null  object \n",
            " 16  horse_gender           29542 non-null  object \n",
            " 17  nationality            29542 non-null  object \n",
            "dtypes: float64(5), int64(3), object(10)\n",
            "memory usage: 4.1+ MB\n"
          ]
        }
      ]
    },
    {
      "cell_type": "markdown",
      "source": [
        "#### TODO 1: How many rows and columns in this dataframe?"
      ],
      "metadata": {
        "id": "9DhTsPglfZRf"
      }
    },
    {
      "cell_type": "code",
      "source": [
        "# Write your code here.\n",
        "df.shape"
      ],
      "metadata": {
        "id": "CLO24hxRe4ZD",
        "colab": {
          "base_uri": "https://localhost:8080/"
        },
        "outputId": "c8f86d98-ddcd-41d7-8847-d85401e7518b"
      },
      "execution_count": null,
      "outputs": [
        {
          "output_type": "execute_result",
          "data": {
            "text/plain": [
              "(29542, 18)"
            ]
          },
          "metadata": {},
          "execution_count": 33
        }
      ]
    },
    {
      "cell_type": "markdown",
      "source": [
        "The dataset contains the race results of 1,561 local races throughout the Hong Kong racing seasons of 2014-2016. Since it is a horse racing dataset, each horse can race multiple times.\n"
      ],
      "metadata": {
        "id": "LBQ1fWIVsedh"
      }
    },
    {
      "cell_type": "markdown",
      "source": [
        "#### TODO 2: How many unique horses are there in the cleaned dataset?"
      ],
      "metadata": {
        "id": "4s4u8cxftjSa"
      }
    },
    {
      "cell_type": "code",
      "source": [
        "# Write your code here.\n",
        "df['horse_id'].nunique()"
      ],
      "metadata": {
        "id": "xCgtcjdxsCha",
        "colab": {
          "base_uri": "https://localhost:8080/"
        },
        "outputId": "54cb19b1-7a99-4573-d3b3-637943d2647b"
      },
      "execution_count": null,
      "outputs": [
        {
          "output_type": "execute_result",
          "data": {
            "text/plain": [
              "2155"
            ]
          },
          "metadata": {},
          "execution_count": 34
        }
      ]
    },
    {
      "cell_type": "markdown",
      "source": [
        "#### TODO 3: How many unique male horse are there in the dataset?"
      ],
      "metadata": {
        "id": "h3b5vtPpByQr"
      }
    },
    {
      "cell_type": "code",
      "source": [
        "# Write your code here.\n",
        "df[df['horse_gender'] == 'male']['horse_id'].nunique()"
      ],
      "metadata": {
        "id": "nr-fEHtfYETe",
        "colab": {
          "base_uri": "https://localhost:8080/"
        },
        "outputId": "aa49a429-8e0e-45cf-ca91-29cd866c20c6"
      },
      "execution_count": null,
      "outputs": [
        {
          "output_type": "execute_result",
          "data": {
            "text/plain": [
              "1275"
            ]
          },
          "metadata": {},
          "execution_count": 35
        }
      ]
    },
    {
      "cell_type": "markdown",
      "source": [
        "declared_weight - declared weight of the horse and jockey, in lbs\n",
        "\n",
        "actual_weight - actual weight carried by the horse, in lbs"
      ],
      "metadata": {
        "id": "ezgMxnItcCny"
      }
    },
    {
      "cell_type": "markdown",
      "source": [
        "#### TODO 4: What is the average declared weight of the horses in the DataFrame?\n",
        "Hint: You may need to convert the type in the series to int  \n",
        "  Hint2: No need to make the horse unique()"
      ],
      "metadata": {
        "id": "Sb1B7j4zQGAn"
      }
    },
    {
      "cell_type": "code",
      "source": [
        "# Write your code here.\n",
        "df['declared_horse_weight'] = df['declared_horse_weight'].astype(int)\n",
        "df['declared_horse_weight'].mean()"
      ],
      "metadata": {
        "id": "r_6IQlGyYF8N",
        "colab": {
          "base_uri": "https://localhost:8080/"
        },
        "outputId": "0eb24785-66f6-4c65-96bf-47470748d0ed"
      },
      "execution_count": null,
      "outputs": [
        {
          "output_type": "execute_result",
          "data": {
            "text/plain": [
              "1108.9913343714034"
            ]
          },
          "metadata": {},
          "execution_count": 36
        }
      ]
    },
    {
      "cell_type": "markdown",
      "source": [
        "#### TODO 5: Give me the names of the top 5 horses that have won the most races.\n",
        "Hint: Be careful of the variable type"
      ],
      "metadata": {
        "id": "HcLlcQ3iUfDY"
      }
    },
    {
      "cell_type": "code",
      "source": [
        "# Write your code here.\n",
        "winners = df[df['finishing_position'] == '1']\n",
        "\n",
        "# Count wins per horse\n",
        "win_counts = winners['horse_name'].value_counts()\n",
        "\n",
        "# Get top 5 horses with most wins\n",
        "top_5_horses = win_counts.head(5)\n",
        "\n",
        "print(top_5_horses)"
      ],
      "metadata": {
        "id": "ujdi5LjnWT-C",
        "colab": {
          "base_uri": "https://localhost:8080/"
        },
        "outputId": "44dd7fb2-0387-4acc-c7eb-15a71060ae97"
      },
      "execution_count": null,
      "outputs": [
        {
          "output_type": "stream",
          "name": "stdout",
          "text": [
            "horse_name\n",
            "CONTENTMENT       10\n",
            "SUPREME PROFIT     9\n",
            "LUCKY YEAR         8\n",
            "BLIZZARD           8\n",
            "RAPPER DRAGON      8\n",
            "Name: count, dtype: int64\n"
          ]
        }
      ]
    },
    {
      "cell_type": "markdown",
      "source": [
        "#### TODO 6: Some jockeys can race multiple times. Who is the jockey that has won the most races?"
      ],
      "metadata": {
        "id": "iIEeJtBxaC7S"
      }
    },
    {
      "cell_type": "code",
      "source": [
        "# Write your code here.\n",
        "winners = df[df['finishing_position'] == '1']\n",
        "\n",
        "# Count wins per horse\n",
        "win_counts = winners['jockey'].value_counts()\n",
        "\n",
        "# Get top 5 horses with most wins\n",
        "top = win_counts.head(1)\n",
        "\n",
        "print(top.index[0])"
      ],
      "metadata": {
        "id": "e_dkXaFfVoDZ",
        "colab": {
          "base_uri": "https://localhost:8080/"
        },
        "outputId": "3b84c6a3-ecae-45d6-b9b4-bb04b69cdf2e"
      },
      "execution_count": null,
      "outputs": [
        {
          "output_type": "stream",
          "name": "stdout",
          "text": [
            "J Moreira\n"
          ]
        }
      ]
    },
    {
      "cell_type": "markdown",
      "source": [
        "#### TODO 7: Some horses in this dataset have inconsistent weights (same horse_id but different weights). How many horses have consistent actual_weight values for each horse_id?\n",
        "\n",
        "Hint: You may use groupby() to solve this question."
      ],
      "metadata": {
        "id": "nLaPPFREXQD6"
      }
    },
    {
      "cell_type": "code",
      "source": [
        "# Write your code here.\n",
        "consistent_weights = df.groupby('horse_id')['actual_weight'].nunique() == 1\n",
        "\n",
        "# Count the number of horse_ids with consistent weights\n",
        "num_consistent_horses = consistent_weights.sum()\n",
        "print(num_consistent_horses)"
      ],
      "metadata": {
        "id": "vWaPOyipVjMG",
        "colab": {
          "base_uri": "https://localhost:8080/"
        },
        "outputId": "fb80dba1-1fb2-4791-d672-dcd353715ce3"
      },
      "execution_count": null,
      "outputs": [
        {
          "output_type": "stream",
          "name": "stdout",
          "text": [
            "216\n"
          ]
        }
      ]
    },
    {
      "cell_type": "markdown",
      "source": [
        "## Visualization\n"
      ],
      "metadata": {
        "id": "HjohBi7Ja2rj"
      }
    },
    {
      "cell_type": "code",
      "source": [
        "import matplotlib.pyplot as plt"
      ],
      "metadata": {
        "id": "MLU8mdcPib_H"
      },
      "execution_count": null,
      "outputs": []
    },
    {
      "cell_type": "markdown",
      "source": [
        "#### Practice: Plot a bar chart showing the number of unique horses compared to their nationality."
      ],
      "metadata": {
        "id": "PTeU3roglumY"
      }
    },
    {
      "cell_type": "markdown",
      "source": [
        "The answer should look like this.![image.png](data:image/png;base64,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)"
      ],
      "metadata": {
        "id": "G5pRZbylNI_p"
      }
    },
    {
      "cell_type": "code",
      "source": [
        "# Write your code here.\n",
        "unique_horses_by_nationality = df.groupby('nationality')['horse_id'].nunique().sort_values(ascending=False)\n",
        "\n",
        "# Plot the bar chart\n",
        "plt.figure(figsize=(12, 6))\n",
        "unique_horses_by_nationality.plot(kind='bar', color='skyblue')\n",
        "plt.xlabel('Nationality')\n",
        "plt.ylabel('Number of Unique Horses')\n",
        "plt.title('Number of Unique Horses by Nationality')\n",
        "plt.xticks(rotation=45)\n",
        "plt.show()"
      ],
      "metadata": {
        "id": "9TJdvD3dNN-O",
        "colab": {
          "base_uri": "https://localhost:8080/",
          "height": 610
        },
        "outputId": "ed0e432e-1266-439c-9b4a-6b88667f8826"
      },
      "execution_count": null,
      "outputs": [
        {
          "output_type": "display_data",
          "data": {
            "text/plain": [
              "<Figure size 1200x600 with 1 Axes>"
            ],
            "image/png": "[encoded data removed]"
          },
          "metadata": {}
        }
      ]
    }
  ]
}